{
 "nbformat": 4,
 "nbformat_minor": 0,
 "metadata": {
  "colab": {
   "provenance": []
  },
  "kernelspec": {
   "name": "python3",
   "display_name": "Python 3"
  },
  "language_info": {
   "name": "python"
  }
 },
 "cells": [
  {
   "cell_type": "code",
   "execution_count": null,
   "metadata": {
    "colab": {
     "base_uri": "https://localhost:8080/"
    },
    "id": "Z-oxj8iwt_JD",
    "outputId": "9bfc3ab9-d12f-413a-daa7-40b6f9e59dd3"
   },
   "outputs": [
    {
     "output_type": "stream",
     "name": "stdout",
     "text": [
      "Collecting gym-walk\n",
      "  Cloning https://github.com/mimoralea/gym-walk to /tmp/pip-install-1_tz2j5s/gym-walk_44ff02d7322046e497bf4c93c5442bc7\n",
      "  Running command git clone --filter=blob:none --quiet https://github.com/mimoralea/gym-walk /tmp/pip-install-1_tz2j5s/gym-walk_44ff02d7322046e497bf4c93c5442bc7\n",
      "  Resolved https://github.com/mimoralea/gym-walk to commit 5999016267d6de2f5a63307fb00dfd63de319ac1\n",
      "  Preparing metadata (setup.py) ... \u001b[?25l\u001b[?25hdone\n",
      "Requirement already satisfied: gym in /usr/local/lib/python3.10/dist-packages (from gym-walk) (0.25.2)\n",
      "Requirement already satisfied: numpy>=1.18.0 in /usr/local/lib/python3.10/dist-packages (from gym->gym-walk) (1.26.4)\n",
      "Requirement already satisfied: cloudpickle>=1.2.0 in /usr/local/lib/python3.10/dist-packages (from gym->gym-walk) (2.2.1)\n",
      "Requirement already satisfied: gym-notices>=0.0.4 in /usr/local/lib/python3.10/dist-packages (from gym->gym-walk) (0.0.8)\n",
      "Building wheels for collected packages: gym-walk\n",
      "  Building wheel for gym-walk (setup.py) ... \u001b[?25l\u001b[?25hdone\n",
      "  Created wheel for gym-walk: filename=gym_walk-0.0.2-py3-none-any.whl size=4058 sha256=52707af318889dddededba867ff87793b4f21133424c792a271c39c7d7ad665e\n",
      "  Stored in directory: /tmp/pip-ephem-wheel-cache-tibeg62k/wheels/24/fe/c4/0cbc7511d29265bad7e28a09311db3f87f0cafba74af54d530\n",
      "Successfully built gym-walk\n",
      "Installing collected packages: gym-walk\n",
      "Successfully installed gym-walk-0.0.2\n"
     ]
    }
   ],
   "source": [
    "pip install git+https://github.com/mimoralea/gym-walk#egg=gym-walk"
   ]
  },
  {
   "cell_type": "code",
   "source": [
    "import warnings ; warnings.filterwarnings('ignore')\n",
    "\n",
    "import gym, gym_walk\n",
    "import numpy as np\n",
    "\n",
    "import random\n",
    "import warnings\n",
    "\n",
    "warnings.filterwarnings('ignore', category=DeprecationWarning)\n",
    "np.set_printoptions(suppress=True)\n",
    "random.seed(123); np.random.seed(123)"
   ],
   "metadata": {
    "id": "VRXg73tbt__V"
   },
   "execution_count": null,
   "outputs": []
  },
  {
   "cell_type": "code",
   "source": [
    "def print_policy(pi, P, action_symbols=('<', 'v', '>', '^'), n_cols=4, title='Policy:'):\n",
    "    print(title)\n",
    "    arrs = {k:v for k,v in enumerate(action_symbols)}\n",
    "    for s in range(len(P)):\n",
    "        a = pi(s)\n",
    "        print(\"| \", end=\"\")\n",
    "        if np.all([done for action in P[s].values() for _, _, _, done in action]):\n",
    "            print(\"\".rjust(9), end=\" \")\n",
    "        else:\n",
    "            print(str(s).zfill(2), arrs[a].rjust(6), end=\" \")\n",
    "        if (s + 1) % n_cols == 0: print(\"|\")"
   ],
   "metadata": {
    "id": "04NdaAZ7uK1y"
   },
   "execution_count": null,
   "outputs": []
  },
  {
   "cell_type": "code",
   "source": [
    "def print_state_value_function(V, P, n_cols=4, prec=3, title='State-value function:'):\n",
    "    print(title)\n",
    "    for s in range(len(P)):\n",
    "        v = V[s]\n",
    "        print(\"| \", end=\"\")\n",
    "        if np.all([done for action in P[s].values() for _, _, _, done in action]):\n",
    "            print(\"\".rjust(9), end=\" \")\n",
    "        else:\n",
    "            print(str(s).zfill(2), '{}'.format(np.round(v, prec)).rjust(6), end=\" \")\n",
    "        if (s + 1) % n_cols == 0: print(\"|\")"
   ],
   "metadata": {
    "id": "ME6wXfM7uNuX"
   },
   "execution_count": null,
   "outputs": []
  },
  {
   "cell_type": "code",
   "source": [
    "\n",
    "def probability_success(env, pi, goal_state, n_episodes=100, max_steps=200):\n",
    "    random.seed(123); np.random.seed(123) ; env.seed(123)\n",
    "    results = []\n",
    "    for _ in range(n_episodes):\n",
    "        state, done, steps = env.reset(), False, 0\n",
    "        while not done and steps < max_steps:\n",
    "            state, _, done, h = env.step(pi(state))\n",
    "            steps += 1\n",
    "        results.append(state == goal_state)\n",
    "    return np.sum(results)/len(results)"
   ],
   "metadata": {
    "id": "Aicg-lm4uQfe"
   },
   "execution_count": null,
   "outputs": []
  },
  {
   "cell_type": "code",
   "source": [
    "\n",
    "def mean_return(env, pi, n_episodes=100, max_steps=200):\n",
    "    random.seed(123); np.random.seed(123) ; env.seed(123)\n",
    "    results = []\n",
    "    for _ in range(n_episodes):\n",
    "        state, done, steps = env.reset(), False, 0\n",
    "        results.append(0.0)\n",
    "        while not done and steps < max_steps:\n",
    "            state, reward, done, _ = env.step(pi(state))\n",
    "            results[-1] += reward\n",
    "            steps += 1\n",
    "    return np.mean(results)"
   ],
   "metadata": {
    "id": "eCe4IlLhuS5R"
   },
   "execution_count": null,
   "outputs": []
  },
  {
   "cell_type": "code",
   "source": [
    "envdesc  = ['FSFF','FFHF','FHFF', 'FGFF']\n",
    "env = gym.make('FrozenLake-v1',desc=envdesc)\n",
    "init_state = env.reset()\n",
    "goal_state = 13 #Enter the Goal state\n",
    "P = env.env.P"
   ],
   "metadata": {
    "id": "n8ZeCoXLuU22"
   },
   "execution_count": null,
   "outputs": []
  },
  {
   "cell_type": "code",
   "source": [
    "def value_iteration(P, gamma=1.0, theta=1e-10):\n",
    "    V = np.zeros(len(P), dtype=np.float64)\n",
    "    while True:\n",
    "        Q = np.zeros((len(P), len(P[0])), dtype=np.float64)\n",
    "        for s in range(len(P)):\n",
    "            for a in range(len(P[s])):\n",
    "                for prob, next_state, reward, done in P[s][a]:\n",
    "                    Q[s][a] += prob * (reward+gamma*V[next_state]*(not done))\n",
    "        if np.max(np.abs(V-np.max(Q, axis=1))) < theta:\n",
    "            break\n",
    "        V = np.max(Q, axis=1)\n",
    "    pi= lambda s: {s:a for s, a in enumerate(np.argmax(Q, axis=1))}[s]\n",
    "\n",
    "    return V, pi"
   ],
   "metadata": {
    "id": "42wt_RWvuX-Q"
   },
   "execution_count": null,
   "outputs": []
  },
  {
   "cell_type": "code",
   "source": [
    "\n",
    "# Finding the optimal policy\n",
    "V_best_v, pi_best_v = value_iteration(P, gamma=0.99)"
   ],
   "metadata": {
    "id": "gZQvVB2wuzRZ"
   },
   "execution_count": null,
   "outputs": []
  },
  {
   "cell_type": "code",
   "source": [
    "\n",
    "# Printing the policy\n",
    "# Name : Mohammed Saajid\n",
    "print('Optimal policy and state-value function (VI):')\n",
    "print_policy(pi_best_v, P)"
   ],
   "metadata": {
    "colab": {
     "base_uri": "https://localhost:8080/"
    },
    "id": "7Dxg3PzQu4Eb",
    "outputId": "31395111-bb27-49d8-ed7e-d490dd02ee4a"
   },
   "execution_count": null,
   "outputs": [
    {
     "output_type": "stream",
     "name": "stdout",
     "text": [
      "Name: Challa Sandeep             Register Number: 212221240011       \n",
      "Optimal policy and state-value function (VI):\n",
      "Policy:\n",
      "| 00      < | 01      ^ | 02      ^ | 03      > |\n",
      "| 04      < | 05      < |           | 07      > |\n",
      "| 08      < |           | 10      v | 11      > |\n",
      "| 12      v |           | 14      v | 15      v |\n"
     ]
    }
   ]
  },
  {
   "cell_type": "code",
   "source": [
    "\n",
    "# printing the success rate and the mean return\n",
    "print('Reaches goal {:.2f}%. Obtains an average undiscounted return of {:.4f}.'.format(\n",
    "    probability_success(env, pi_best_v, goal_state=goal_state)*100,\n",
    "    mean_return(env, pi_best_v)))"
   ],
   "metadata": {
    "colab": {
     "base_uri": "https://localhost:8080/"
    },
    "id": "6jDbWcA4u9_d",
    "outputId": "c97b5766-bcaa-4861-85df-7f17dd0b06a1"
   },
   "execution_count": null,
   "outputs": [
    {
     "output_type": "stream",
     "name": "stdout",
     "text": [
      "Reaches goal 99.00%. Obtains an average undiscounted return of 0.9900.\n"
     ]
    }
   ]
  },
  {
   "cell_type": "code",
   "source": [
    "\n",
    "# printing the state value function\n",
    "print_state_value_function(V_best_v, P, prec=4)"
   ],
   "metadata": {
    "colab": {
     "base_uri": "https://localhost:8080/"
    },
    "id": "D9NCIN3IvA79",
    "outputId": "8993765d-0eb8-4291-abe8-fa526d90057b"
   },
   "execution_count": null,
   "outputs": [
    {
     "output_type": "stream",
     "name": "stdout",
     "text": [
      "State-value function:\n",
      "| 00 0.8263 | 01 0.7871 | 02 0.7717 | 03 0.7798 |\n",
      "| 04 0.8514 | 05 0.5407 |           | 07 0.8034 |\n",
      "| 08 0.9022 |           | 10 0.5955 | 11 0.8514 |\n",
      "| 12 0.9804 |           | 14 0.9532 | 15 0.9251 |\n"
     ]
    }
   ]
  },
  {
   "cell_type": "code",
   "source": [],
   "metadata": {
    "id": "kEUiUs3UvEdC"
   },
   "execution_count": null,
   "outputs": []
  }
 ]
}